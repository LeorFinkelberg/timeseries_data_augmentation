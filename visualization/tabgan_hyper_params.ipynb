{
 "cells": [
  {
   "cell_type": "code",
   "execution_count": 1,
   "id": "65d6f505-6d64-475b-a785-8db87ffe1085",
   "metadata": {
    "tags": []
   },
   "outputs": [],
   "source": [
    "%load_ext autoreload\n",
    "%autoreload 2\n",
    "\n",
    "import pandas as pd\n",
    "import os\n",
    "import sys\n",
    "\n",
    "import numpy as np\n",
    "import seaborn as sns\n",
    "import matplotlib.pyplot as plt\n",
    "\n",
    "from datetime import datetime, timedelta\n",
    "from sklearn.tree import DecisionTreeRegressor\n",
    "from sklearn.ensemble import RandomForestRegressor\n",
    "\n",
    "sys.path.insert(0, os.path.join(\"..\", \"src\"))\n",
    "sys.path.insert(0, os.path.join(\"..\", \"examples\"))\n",
    "\n",
    "from augmentation import TransformData\n",
    "from data_generators import get_data_from_file\n",
    "from tools import experiment, run_model_for_raw_and_augmented_data, smape\n",
    "\n",
    "import warnings\n",
    "\n",
    "warnings.filterwarnings(\"ignore\")"
   ]
  },
  {
   "cell_type": "code",
   "execution_count": 2,
   "id": "d3828c77-72c1-4cb2-96f7-83da1b072a8a",
   "metadata": {
    "tags": []
   },
   "outputs": [
    {
     "data": {
      "application/vnd.jupyter.widget-view+json": {
       "model_id": "a4b7c8c146cf41ce907f7e0fc2a06ed0",
       "version_major": 2,
       "version_minor": 0
      },
      "text/plain": [
       "Fitting CTGAN transformers for each column:   0%|          | 0/13 [00:00<?, ?it/s]"
      ]
     },
     "metadata": {},
     "output_type": "display_data"
    },
    {
     "data": {
      "application/vnd.jupyter.widget-view+json": {
       "model_id": "f9dfa24a8ee8403784e00a557e23ac3c",
       "version_major": 2,
       "version_minor": 0
      },
      "text/plain": [
       "Training CTGAN, epochs::   0%|          | 0/500 [00:00<?, ?it/s]"
      ]
     },
     "metadata": {},
     "output_type": "display_data"
    },
    {
     "name": "stdout",
     "output_type": "stream",
     "text": [
      "Tabgan error: 'numpy.float64' object cannot be interpreted as an integer. Tabgun prediction = -1\n",
      "\n"
     ]
    },
    {
     "ename": "AttributeError",
     "evalue": "'DataFrame' object has no attribute 'pred_augm'",
     "output_type": "error",
     "traceback": [
      "\u001b[1;31m---------------------------------------------------------------------------\u001b[0m",
      "\u001b[1;31mAttributeError\u001b[0m                            Traceback (most recent call last)",
      "Input \u001b[1;32mIn [2]\u001b[0m, in \u001b[0;36m<cell line: 19>\u001b[1;34m()\u001b[0m\n\u001b[0;32m     25\u001b[0m             tabgan_params \u001b[38;5;241m=\u001b[39m {\n\u001b[0;32m     26\u001b[0m                 \u001b[38;5;124m\"\u001b[39m\u001b[38;5;124mgen_x_times\u001b[39m\u001b[38;5;124m\"\u001b[39m: gen_x_times,\n\u001b[0;32m     27\u001b[0m                 \u001b[38;5;124m\"\u001b[39m\u001b[38;5;124mis_post_process\u001b[39m\u001b[38;5;124m\"\u001b[39m: is_post_process,\n\u001b[0;32m     28\u001b[0m                 \u001b[38;5;124m\"\u001b[39m\u001b[38;5;124mpregeneration_frac\u001b[39m\u001b[38;5;124m\"\u001b[39m: pregeneration_frac,\n\u001b[0;32m     29\u001b[0m                 \u001b[38;5;124m\"\u001b[39m\u001b[38;5;124madversarial_model_params\u001b[39m\u001b[38;5;124m\"\u001b[39m: {\u001b[38;5;124m\"\u001b[39m\u001b[38;5;124mrandom_state\u001b[39m\u001b[38;5;124m\"\u001b[39m: \u001b[38;5;241m42\u001b[39m},\n\u001b[0;32m     30\u001b[0m             }\n\u001b[0;32m     31\u001b[0m             df, train_test_split \u001b[38;5;241m=\u001b[39m row[\u001b[38;5;124m\"\u001b[39m\u001b[38;5;124mdf\u001b[39m\u001b[38;5;124m\"\u001b[39m], row[\u001b[38;5;124m\"\u001b[39m\u001b[38;5;124mtrain_test_split\u001b[39m\u001b[38;5;124m\"\u001b[39m]\n\u001b[1;32m---> 33\u001b[0m             result_raw_data, result_augmented_data \u001b[38;5;241m=\u001b[39m \u001b[43mexperiment\u001b[49m\u001b[43m(\u001b[49m\n\u001b[0;32m     34\u001b[0m \u001b[43m                \u001b[49m\u001b[43mmodel\u001b[49m\u001b[38;5;241;43m=\u001b[39;49m\u001b[43mmodel\u001b[49m\u001b[43m,\u001b[49m\n\u001b[0;32m     35\u001b[0m \u001b[43m                \u001b[49m\u001b[43mdf\u001b[49m\u001b[38;5;241;43m=\u001b[39;49m\u001b[43mdf\u001b[49m\u001b[43m,\u001b[49m\n\u001b[0;32m     36\u001b[0m \u001b[43m                \u001b[49m\u001b[43mtrain_test_split\u001b[49m\u001b[38;5;241;43m=\u001b[39;49m\u001b[43mtrain_test_split\u001b[49m\u001b[43m,\u001b[49m\n\u001b[0;32m     37\u001b[0m \u001b[43m                \u001b[49m\u001b[43maugm\u001b[49m\u001b[38;5;241;43m=\u001b[39;49m\u001b[38;5;28;43;01mFalse\u001b[39;49;00m\u001b[43m,\u001b[49m\n\u001b[0;32m     38\u001b[0m \u001b[43m                \u001b[49m\u001b[43mtabgan\u001b[49m\u001b[38;5;241;43m=\u001b[39;49m\u001b[38;5;28;43;01mTrue\u001b[39;49;00m\u001b[43m,\u001b[49m\n\u001b[0;32m     39\u001b[0m \u001b[43m                \u001b[49m\u001b[43mtabgan_params\u001b[49m\u001b[38;5;241;43m=\u001b[39;49m\u001b[43mtabgan_params\u001b[49m\u001b[43m,\u001b[49m\n\u001b[0;32m     40\u001b[0m \u001b[43m            \u001b[49m\u001b[43m)\u001b[49m\n\u001b[0;32m     41\u001b[0m             pivot_result_table\u001b[38;5;241m.\u001b[39mappend(\n\u001b[0;32m     42\u001b[0m                 [\n\u001b[0;32m     43\u001b[0m                     i,\n\u001b[1;32m   (...)\u001b[0m\n\u001b[0;32m     49\u001b[0m                 ]\n\u001b[0;32m     50\u001b[0m             )\n\u001b[0;32m     52\u001b[0m pivot_result_table \u001b[38;5;241m=\u001b[39m pd\u001b[38;5;241m.\u001b[39mDataFrame(\n\u001b[0;32m     53\u001b[0m     data\u001b[38;5;241m=\u001b[39mpivot_result_table,\n\u001b[0;32m     54\u001b[0m     columns\u001b[38;5;241m=\u001b[39m[\n\u001b[1;32m   (...)\u001b[0m\n\u001b[0;32m     61\u001b[0m     ],\n\u001b[0;32m     62\u001b[0m )\n",
      "File \u001b[1;32mC:\\YandexDisk\\zyfra\\data_aumentation\\visualization\\..\\examples\\tools.py:129\u001b[0m, in \u001b[0;36mexperiment\u001b[1;34m(model, df, train_test_split, N, K, augm, tabgan, tabgan_params)\u001b[0m\n\u001b[0;32m    118\u001b[0m experiment_result \u001b[38;5;241m=\u001b[39m run_model_for_raw_and_augmented_data(\n\u001b[0;32m    119\u001b[0m     model,\n\u001b[0;32m    120\u001b[0m     df,\n\u001b[1;32m   (...)\u001b[0m\n\u001b[0;32m    126\u001b[0m     tabgan_params\u001b[38;5;241m=\u001b[39mtabgan_params,\n\u001b[0;32m    127\u001b[0m )\n\u001b[0;32m    128\u001b[0m e \u001b[38;5;241m=\u001b[39m experiment_result[\u001b[38;5;241m~\u001b[39mnp\u001b[38;5;241m.\u001b[39misnan(experiment_result\u001b[38;5;241m.\u001b[39my)]\n\u001b[1;32m--> 129\u001b[0m \u001b[38;5;28;01mreturn\u001b[39;00m smape(e\u001b[38;5;241m.\u001b[39my, e\u001b[38;5;241m.\u001b[39mpred_raw), smape(e\u001b[38;5;241m.\u001b[39my, \u001b[43me\u001b[49m\u001b[38;5;241;43m.\u001b[39;49m\u001b[43mpred_augm\u001b[49m)\n",
      "File \u001b[1;32mC:\\anaconda3\\envs\\augm\\lib\\site-packages\\pandas\\core\\generic.py:5583\u001b[0m, in \u001b[0;36mNDFrame.__getattr__\u001b[1;34m(self, name)\u001b[0m\n\u001b[0;32m   5576\u001b[0m \u001b[38;5;28;01mif\u001b[39;00m (\n\u001b[0;32m   5577\u001b[0m     name \u001b[38;5;129;01mnot\u001b[39;00m \u001b[38;5;129;01min\u001b[39;00m \u001b[38;5;28mself\u001b[39m\u001b[38;5;241m.\u001b[39m_internal_names_set\n\u001b[0;32m   5578\u001b[0m     \u001b[38;5;129;01mand\u001b[39;00m name \u001b[38;5;129;01mnot\u001b[39;00m \u001b[38;5;129;01min\u001b[39;00m \u001b[38;5;28mself\u001b[39m\u001b[38;5;241m.\u001b[39m_metadata\n\u001b[0;32m   5579\u001b[0m     \u001b[38;5;129;01mand\u001b[39;00m name \u001b[38;5;129;01mnot\u001b[39;00m \u001b[38;5;129;01min\u001b[39;00m \u001b[38;5;28mself\u001b[39m\u001b[38;5;241m.\u001b[39m_accessors\n\u001b[0;32m   5580\u001b[0m     \u001b[38;5;129;01mand\u001b[39;00m \u001b[38;5;28mself\u001b[39m\u001b[38;5;241m.\u001b[39m_info_axis\u001b[38;5;241m.\u001b[39m_can_hold_identifiers_and_holds_name(name)\n\u001b[0;32m   5581\u001b[0m ):\n\u001b[0;32m   5582\u001b[0m     \u001b[38;5;28;01mreturn\u001b[39;00m \u001b[38;5;28mself\u001b[39m[name]\n\u001b[1;32m-> 5583\u001b[0m \u001b[38;5;28;01mreturn\u001b[39;00m \u001b[38;5;28;43mobject\u001b[39;49m\u001b[38;5;241;43m.\u001b[39;49m\u001b[38;5;21;43m__getattribute__\u001b[39;49m\u001b[43m(\u001b[49m\u001b[38;5;28;43mself\u001b[39;49m\u001b[43m,\u001b[49m\u001b[43m \u001b[49m\u001b[43mname\u001b[49m\u001b[43m)\u001b[49m\n",
      "\u001b[1;31mAttributeError\u001b[0m: 'DataFrame' object has no attribute 'pred_augm'"
     ]
    }
   ],
   "source": [
    "model = RandomForestRegressor(n_estimators=200, random_state=42)\n",
    "\n",
    "nums = [\"01\", \"02\", \"03\", \"04\", \"05\", \"06\", \"07\", \"08\", \"09\"]\n",
    "\n",
    "experiments = []\n",
    "\n",
    "for num in nums:\n",
    "    filename = os.path.join(\"..\", \"examples\", \"data\", f\"df_{num}.csv\")\n",
    "    exp = get_data_from_file(filename)\n",
    "    experiments.append(exp)\n",
    "\n",
    "experiments = pd.DataFrame(experiments, columns=[\"df\", \"train_test_split\"])\n",
    "\n",
    "gen_x_times_possible = np.arange(1.1, 1.5, 0.1)\n",
    "is_post_process_possible = [True, False]\n",
    "pregeneration_frac_possible = np.arange(1.2, 3, 0.3)\n",
    "\n",
    "res = []\n",
    "for i, row in experiments.iterrows():\n",
    "    pivot_result_table = []\n",
    "    for gen_x_times in gen_x_times_possible:\n",
    "        for is_post_process in is_post_process_possible:\n",
    "            for pregeneration_frac in pregeneration_frac_possible:\n",
    "\n",
    "                tabgan_params = {\n",
    "                    \"gen_x_times\": gen_x_times,\n",
    "                    \"is_post_process\": is_post_process,\n",
    "                    \"pregeneration_frac\": pregeneration_frac,\n",
    "                    \"adversarial_model_params\": {\"random_state\": 42},\n",
    "                }\n",
    "                df, train_test_split = row[\"df\"], row[\"train_test_split\"]\n",
    "\n",
    "                result_raw_data, result_augmented_data = experiment(\n",
    "                    model=model,\n",
    "                    df=df,\n",
    "                    train_test_split=train_test_split,\n",
    "                    augm=False,\n",
    "                    tabgan=True,\n",
    "                    tabgan_params=tabgan_params,\n",
    "                )\n",
    "                pivot_result_table.append(\n",
    "                    [\n",
    "                        i,\n",
    "                        gen_x_times,\n",
    "                        is_post_process,\n",
    "                        pregeneration_frac,\n",
    "                        result_raw_data,\n",
    "                        result_augmented_data,\n",
    "                    ]\n",
    "                )\n",
    "\n",
    "    pivot_result_table = pd.DataFrame(\n",
    "        data=pivot_result_table,\n",
    "        columns=[\n",
    "            \"experiment\",\n",
    "            \"gen_x_times\",\n",
    "            \"is_post_process\",\n",
    "            \"pregeneration_frac\",\n",
    "            \"raw_data_mape\",\n",
    "            \"augmented_data_mape\",\n",
    "        ],\n",
    "    )\n",
    "\n",
    "    pivot_result_table[[\"raw_data_mape\", \"augmented_data_mape\"]] /= pivot_result_table[\n",
    "        [\"raw_data_mape\", \"augmented_data_mape\"]\n",
    "    ].mean()\n",
    "\n",
    "    pivot_result_table = pivot_result_table.sort_values(\"augmented_data_mape\")\n",
    "    pivot_result_table[\"exp rang\"] = range(len(pivot_result_table))\n",
    "    res.append(pivot_result_table)\n",
    "\n",
    "res = pd.concat(res)\n",
    "print(\"done\")"
   ]
  },
  {
   "cell_type": "code",
   "execution_count": null,
   "id": "3b9080d2-e0df-4980-acb2-1dccedc5f996",
   "metadata": {},
   "outputs": [],
   "source": [
    "res_copy = res.copy()\n",
    "res"
   ]
  },
  {
   "cell_type": "code",
   "execution_count": null,
   "id": "39bf4b82-9024-4c46-8719-b962f9c575ac",
   "metadata": {},
   "outputs": [],
   "source": [
    "res = res[res.is_post_process == True]"
   ]
  },
  {
   "cell_type": "code",
   "execution_count": null,
   "id": "cca7248a-5c16-4651-9bd1-41ef0bafc2d5",
   "metadata": {},
   "outputs": [],
   "source": [
    "res[\"Gen_x_times\"] = res[\"gen_x_times\"].copy()\n",
    "res[\"Pregeneration_frac\"] = res[\"pregeneration_frac\"].copy()\n",
    "res = res.groupby([\"gen_x_times\", \"pregeneration_frac\"]).mean()\n",
    "res"
   ]
  },
  {
   "cell_type": "code",
   "execution_count": null,
   "id": "c486b3a5-3922-4e16-bfa3-0601ac154277",
   "metadata": {},
   "outputs": [],
   "source": [
    "piv = res[[\"exp rang\", \"Gen_x_times\", \"Pregeneration_frac\"]].pivot(\n",
    "    index=\"Gen_x_times\", columns=\"Pregeneration_frac\", values=\"exp rang\"\n",
    ")\n",
    "plt.figure(figsize=(12, 8))\n",
    "sns.heatmap(piv, annot=True)"
   ]
  },
  {
   "cell_type": "code",
   "execution_count": null,
   "id": "7806d1e8-c462-42ec-88ad-d0428c949223",
   "metadata": {},
   "outputs": [],
   "source": [
    "tabgan_best_params = {\n",
    "    \"gen_x_times\": 1.4,\n",
    "    \"is_post_process\": True,\n",
    "    \"pregeneration_frac\": 1.5,\n",
    "    \"adversarial_model_params\": {\"random_state\": 42},\n",
    "}"
   ]
  },
  {
   "cell_type": "code",
   "execution_count": null,
   "id": "39b4cfa9-8ce2-4149-92ed-edb4a75b1128",
   "metadata": {},
   "outputs": [],
   "source": [
    "experiments = []\n",
    "for num in [\"07\", \"08\", \"09\"]:\n",
    "    filename = os.path.join(\"..\", \"examples\", \"data\", f\"df_{num}.csv\")\n",
    "    exp = get_data_from_file(filename)\n",
    "    exp[0][\"num\"] = num\n",
    "    experiments.append(exp)\n",
    "\n",
    "experiments = pd.DataFrame(experiments, columns=[\"df\", \"train_test_split\"])"
   ]
  },
  {
   "cell_type": "code",
   "execution_count": null,
   "id": "50af7879-f4d6-4dbf-9aa7-e5f73b479d98",
   "metadata": {},
   "outputs": [],
   "source": [
    "res = []\n",
    "rr = []\n",
    "\n",
    "for i, row in experiments.iterrows():\n",
    "    print(f\"experiment {i} in processing...\")\n",
    "    df, train_test_split = row[\"df\"], row[\"train_test_split\"]\n",
    "\n",
    "    e = run_model_for_raw_and_augmented_data(\n",
    "        model, df, train_test_split, tabgan=True, tabgan_params=tabgan_best_params\n",
    "    )\n",
    "\n",
    "    e = e[~np.isnan(e.y)]\n",
    "    e[\"exp\"] = i\n",
    "    rr.append(e)\n",
    "    result_raw_data = smape(e.y, e.pred_raw)\n",
    "    result_augmented_data = smape(e.y, e.pred_augm)\n",
    "\n",
    "    res.append([result_raw_data, result_augmented_data])\n",
    "\n",
    "res = pd.DataFrame(\n",
    "    data=res,\n",
    "    columns=[\"raw_data_mape\", \"augmented_data_mape\"],\n",
    ")\n",
    "rr = pd.concat(rr)\n",
    "res\n",
    "print(\"done\")"
   ]
  },
  {
   "cell_type": "code",
   "execution_count": null,
   "id": "9689ddb6-fad9-406d-93d3-15dace5314a5",
   "metadata": {},
   "outputs": [],
   "source": [
    "res"
   ]
  },
  {
   "cell_type": "code",
   "execution_count": null,
   "id": "313011e3-6367-4469-a6f7-5053195d6b65",
   "metadata": {},
   "outputs": [],
   "source": [
    "for i in rr.exp.unique():\n",
    "    d = rr[rr.exp == i]\n",
    "    plt.figure(figsize=(15, 6))\n",
    "    plt.plot(d.time, d.pred_raw, \"o\", markersize=4, label=\"pred_raw\")\n",
    "    plt.plot(d.time, d.pred_augm, \"o\", markersize=5, label=\"pred_tabgan\")\n",
    "    plt.plot(d.time, d.y, \"v\", markersize=5, label=\"y_true\")\n",
    "    plt.legend()\n",
    "    plt.show()"
   ]
  },
  {
   "cell_type": "code",
   "execution_count": null,
   "id": "92c5b031-bb1d-44e0-bd1d-846965f3dbcb",
   "metadata": {},
   "outputs": [],
   "source": []
  }
 ],
 "metadata": {
  "kernelspec": {
   "display_name": "Python 3.9.7 ('base')",
   "language": "python",
   "name": "python3"
  },
  "language_info": {
   "codemirror_mode": {
    "name": "ipython",
    "version": 3
   },
   "file_extension": ".py",
   "mimetype": "text/x-python",
   "name": "python",
   "nbconvert_exporter": "python",
   "pygments_lexer": "ipython3",
   "version": "3.9.7"
  },
  "vscode": {
   "interpreter": {
    "hash": "6bcd08b9d07a1bbf1ca3d2e85cf520478653b674492b433d59be3f14d722c959"
   }
  }
 },
 "nbformat": 4,
 "nbformat_minor": 5
}
